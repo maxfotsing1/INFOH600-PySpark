{
 "cells": [
  {
   "cell_type": "code",
   "execution_count": 2,
   "metadata": {
    "colab": {
     "base_uri": "https://localhost:8080/"
    },
    "executionInfo": {
     "elapsed": 52603,
     "status": "ok",
     "timestamp": 1642779871573,
     "user": {
      "displayName": "KOUKPAKI FERDINAND",
      "photoUrl": "https://lh3.googleusercontent.com/a-/AOh14GiKL7PXjDm88bhmysS8LfQbPMAgV43sIywZXZ9jDg=s64",
      "userId": "16926908185072904020"
     },
     "user_tz": -60
    },
    "id": "_RDzv5sI__9S",
    "outputId": "1f40e7e7-0ed3-45ec-cd4e-7459bf976a02"
   },
   "outputs": [
    {
     "name": "stdout",
     "output_type": "stream",
     "text": [
      "Collecting pyspark\n",
      "  Downloading pyspark-3.3.2.tar.gz (281.4 MB)\n",
      "Collecting py4j==0.10.9.5\n",
      "  Downloading py4j-0.10.9.5-py2.py3-none-any.whl (199 kB)\n",
      "Building wheels for collected packages: pyspark\n",
      "  Building wheel for pyspark (setup.py): started\n",
      "  Building wheel for pyspark (setup.py): finished with status 'done'\n",
      "  Created wheel for pyspark: filename=pyspark-3.3.2-py2.py3-none-any.whl size=281824030 sha256=79a5ffc7c4f5dac344829be1582e40961d9296bf4de1f6412d23ec2b9d4d2fb4\n",
      "  Stored in directory: c:\\users\\pc\\appdata\\local\\pip\\cache\\wheels\\b1\\59\\a0\\a1a0624b5e865fd389919c1a10f53aec9b12195d6747710baf\n",
      "Successfully built pyspark\n",
      "Installing collected packages: py4j, pyspark\n",
      "Successfully installed py4j-0.10.9.5 pyspark-3.3.2\n",
      "Collecting pysparkNote: you may need to restart the kernel to use updated packages.\n",
      "  Downloading pyspark-3.3.2.tar.gz (281.4 MB)\n",
      "Collecting py4j==0.10.9.5\n",
      "  Using cached py4j-0.10.9.5-py2.py3-none-any.whl (199 kB)\n",
      "Building wheels for collected packages: pyspark\n",
      "  Building wheel for pyspark (setup.py): started\n",
      "  Building wheel for pyspark (setup.py): finished with status 'done'\n",
      "  Created wheel for pyspark: filename=pyspark-3.3.2-py2.py3-none-any.whl size=281824030 sha256=4eb150e0b55df483a95d6098dbb7fafcd5bc0076385403955d7743b794df83bf\n",
      "  Stored in directory: c:\\users\\pc\\appdata\\local\\pip\\cache\\wheels\\b1\\59\\a0\\a1a0624b5e865fd389919c1a10f53aec9b12195d6747710baf\n",
      "Successfully built pyspark\n",
      "Installing collected packages: py4j, pyspark\n",
      "\n",
      "Successfully installed py4j-0.10.9.5 pyspark-3.3.2\n"
     ]
    }
   ],
   "source": [
    "pip install pyspark"
   ]
  },
  {
   "cell_type": "code",
   "execution_count": 8,
   "metadata": {
    "executionInfo": {
     "elapsed": 241,
     "status": "ok",
     "timestamp": 1642779939544,
     "user": {
      "displayName": "KOUKPAKI FERDINAND",
      "photoUrl": "https://lh3.googleusercontent.com/a-/AOh14GiKL7PXjDm88bhmysS8LfQbPMAgV43sIywZXZ9jDg=s64",
      "userId": "16926908185072904020"
     },
     "user_tz": -60
    },
    "id": "HtzSPVe-Fg3o"
   },
   "outputs": [
    {
     "name": "stdout",
     "output_type": "stream",
     "text": [
      "1\n"
     ]
    }
   ],
   "source": [
    "#This is needed to start a Spark session from the notebook\n",
    "#You may adjust the memory used by the driver program based on your machine's settings\n",
    "import os \n",
    "os.environ['PYSPARK_SUBMIT_ARGS'] =\"--conf spark.driver.memory=2g  pyspark-shell\"\n",
    "\n",
    "from pyspark.sql import SparkSession\n",
    "\n",
    "print(1)"
   ]
  },
  {
   "cell_type": "code",
   "execution_count": 9,
   "metadata": {
    "executionInfo": {
     "elapsed": 8928,
     "status": "ok",
     "timestamp": 1642780012761,
     "user": {
      "displayName": "KOUKPAKI FERDINAND",
      "photoUrl": "https://lh3.googleusercontent.com/a-/AOh14GiKL7PXjDm88bhmysS8LfQbPMAgV43sIywZXZ9jDg=s64",
      "userId": "16926908185072904020"
     },
     "user_tz": -60
    },
    "id": "qWRuLmJ7GE-s"
   },
   "outputs": [
    {
     "name": "stdout",
     "output_type": "stream",
     "text": [
      "Spark application already started. Terminating existing application and starting new one\n"
     ]
    }
   ],
   "source": [
    "# -------------------------------\n",
    "# Start Spark in LOCAL mode\n",
    "# -------------------------------\n",
    "\n",
    "#The following lines are just there to allow this cell to be re-executed multiple times:\n",
    "#if a spark session was already started, we stop it before starting a new one\n",
    "#(there can be only one spark context per jupyter notebook)\n",
    "try: \n",
    "    spark\n",
    "    print(\"Spark application already started. Terminating existing application and starting new one\")\n",
    "    spark.stop()\n",
    "except: \n",
    "    pass\n",
    "\n",
    "# Create a new spark session (note, the * indicates to use all available CPU cores)\n",
    "spark = SparkSession \\\n",
    "    .builder \\\n",
    "    .master(\"local[*]\") \\\n",
    "    .appName(\"demoRDD\") \\\n",
    "    .getOrCreate()\n",
    "    \n",
    "#When dealing with RDDs, we work the sparkContext object. See https://spark.apache.org/docs/latest/api/python/pyspark.html#pyspark.SparkContext\n",
    "sc=spark.sparkContext"
   ]
  },
  {
   "cell_type": "code",
   "execution_count": 11,
   "metadata": {
    "colab": {
     "base_uri": "https://localhost:8080/"
    },
    "executionInfo": {
     "elapsed": 25671,
     "status": "ok",
     "timestamp": 1642780060415,
     "user": {
      "displayName": "KOUKPAKI FERDINAND",
      "photoUrl": "https://lh3.googleusercontent.com/a-/AOh14GiKL7PXjDm88bhmysS8LfQbPMAgV43sIywZXZ9jDg=s64",
      "userId": "16926908185072904020"
     },
     "user_tz": -60
    },
    "id": "86AsW8foHLJQ",
    "outputId": "24a7aaa2-7a4a-4bbc-c824-db9a1b268e2b"
   },
   "outputs": [
    {
     "name": "stdout",
     "output_type": "stream",
     "text": [
      "1\n"
     ]
    }
   ],
   "source": [
    "#from google.colab import drive\n",
    "#drive.mount('/content/drive')\n",
    "print(1)"
   ]
  },
  {
   "cell_type": "code",
   "execution_count": 12,
   "metadata": {
    "executionInfo": {
     "elapsed": 22723,
     "status": "ok",
     "timestamp": 1642781197353,
     "user": {
      "displayName": "KOUKPAKI FERDINAND",
      "photoUrl": "https://lh3.googleusercontent.com/a-/AOh14GiKL7PXjDm88bhmysS8LfQbPMAgV43sIywZXZ9jDg=s64",
      "userId": "16926908185072904020"
     },
     "user_tz": -60
    },
    "id": "JsuTow68HVTA"
   },
   "outputs": [],
   "source": [
    "# Create an DataFrame from drivers.csv\n",
    "drivers = spark.read.csv('drivers.csv', header=True, inferSchema=True)"
   ]
  },
  {
   "cell_type": "code",
   "execution_count": 13,
   "metadata": {
    "executionInfo": {
     "elapsed": 7175,
     "status": "ok",
     "timestamp": 1642780948363,
     "user": {
      "displayName": "KOUKPAKI FERDINAND",
      "photoUrl": "https://lh3.googleusercontent.com/a-/AOh14GiKL7PXjDm88bhmysS8LfQbPMAgV43sIywZXZ9jDg=s64",
      "userId": "16926908185072904020"
     },
     "user_tz": -60
    },
    "id": "fRUVLYgzVVtW"
   },
   "outputs": [],
   "source": [
    "df1 = spark.read.json('zones.json')\n"
   ]
  },
  {
   "cell_type": "code",
   "execution_count": 14,
   "metadata": {
    "colab": {
     "base_uri": "https://localhost:8080/"
    },
    "executionInfo": {
     "elapsed": 865,
     "status": "ok",
     "timestamp": 1642781312390,
     "user": {
      "displayName": "KOUKPAKI FERDINAND",
      "photoUrl": "https://lh3.googleusercontent.com/a-/AOh14GiKL7PXjDm88bhmysS8LfQbPMAgV43sIywZXZ9jDg=s64",
      "userId": "16926908185072904020"
     },
     "user_tz": -60
    },
    "id": "pW2jaj7jZSl7",
    "outputId": "e4d3e6cc-b2b3-4bcc-affc-4e7d50a4aa6e"
   },
   "outputs": [
    {
     "name": "stdout",
     "output_type": "stream",
     "text": [
      "+--------+-------------------+----------+----------+\n",
      "|  driver|          timestamp|  latitude| longitude|\n",
      "+--------+-------------------+----------+----------+\n",
      "|c473205b|2017-08-31 14:24:25|-12.106778|-76.998078|\n",
      "|a0f3b4e1|2017-08-31 14:24:26|-12.103913|-76.963727|\n",
      "|1236f9fe|2017-08-31 14:24:26|-12.133777|-77.004266|\n",
      "|ae4a06a2|2017-08-31 14:24:26|-12.085963|-76.987582|\n",
      "|ab7a6c63|2017-08-31 14:24:26|-12.072973|-77.061448|\n",
      "|5ee73484|2017-08-31 14:24:26|-12.067694|-77.068442|\n",
      "|4fff90cb|2017-08-31 14:24:26|-12.144308|-76.989234|\n",
      "|d892d208|2017-08-31 14:24:26|-16.401221|-71.499513|\n",
      "|e9f90dfb|2017-08-31 14:24:10|-12.063665|-76.963254|\n",
      "|c1719f8d|2017-08-31 14:24:10|-12.070187|-76.994167|\n",
      "|4c299505|2017-08-31 14:24:11| -11.96459|-77.015983|\n",
      "|49f033bd|2017-08-31 14:24:11|  -12.0906|-77.069808|\n",
      "|749df32a|2017-08-31 14:24:11|-12.109964| -76.97535|\n",
      "|f8d5c453|2017-08-31 14:24:11|-12.080683|-77.036188|\n",
      "|4314c58a|2017-08-31 14:24:11|-16.404571|-71.519775|\n",
      "|914f7296|2017-08-31 14:24:11|-12.218541|-76.928484|\n",
      "|ee744228|2017-08-31 14:24:30|-12.120202|-77.035704|\n",
      "|353c20b9|2017-08-31 14:24:31|-12.119177|-76.997462|\n",
      "|483e84f9|2017-08-31 14:24:31|-12.109511|-76.995862|\n",
      "|e26ff40f|2017-08-31 14:24:31|-12.130376|-77.017779|\n",
      "+--------+-------------------+----------+----------+\n",
      "only showing top 20 rows\n",
      "\n"
     ]
    }
   ],
   "source": [
    "#Exercise 1\n",
    "drivers.show()"
   ]
  },
  {
   "cell_type": "code",
   "execution_count": 15,
   "metadata": {
    "colab": {
     "base_uri": "https://localhost:8080/"
    },
    "executionInfo": {
     "elapsed": 640,
     "status": "ok",
     "timestamp": 1642781343657,
     "user": {
      "displayName": "KOUKPAKI FERDINAND",
      "photoUrl": "https://lh3.googleusercontent.com/a-/AOh14GiKL7PXjDm88bhmysS8LfQbPMAgV43sIywZXZ9jDg=s64",
      "userId": "16926908185072904020"
     },
     "user_tz": -60
    },
    "id": "1BaYzlsAZcQp",
    "outputId": "efcd97e1-ddd6-410b-815f-4db18d397148"
   },
   "outputs": [
    {
     "name": "stdout",
     "output_type": "stream",
     "text": [
      "+--------------------+\n",
      "|               zones|\n",
      "+--------------------+\n",
      "|[{1, [{-11.784234...|\n",
      "+--------------------+\n",
      "\n"
     ]
    }
   ],
   "source": [
    "df1.show()"
   ]
  },
  {
   "cell_type": "code",
   "execution_count": 16,
   "metadata": {
    "executionInfo": {
     "elapsed": 626,
     "status": "ok",
     "timestamp": 1642781512917,
     "user": {
      "displayName": "KOUKPAKI FERDINAND",
      "photoUrl": "https://lh3.googleusercontent.com/a-/AOh14GiKL7PXjDm88bhmysS8LfQbPMAgV43sIywZXZ9jDg=s64",
      "userId": "16926908185072904020"
     },
     "user_tz": -60
    },
    "id": "RsamAl9WZzJW"
   },
   "outputs": [],
   "source": [
    "# Create an DataFrame from zones.json\n",
    "from pyspark.sql.functions import explode\n",
    "zones = spark.read.json('zones.json')\n",
    "zones=zones.withColumn('zones',explode('zones'))\n",
    "zones=zones.select('zones.id_zone',explode('zones.polygon').alias('Coordinates'))\n",
    "zones=zones.select('id_zone','Coordinates.lat', 'Coordinates.lng')"
   ]
  },
  {
   "cell_type": "code",
   "execution_count": 17,
   "metadata": {
    "colab": {
     "base_uri": "https://localhost:8080/"
    },
    "executionInfo": {
     "elapsed": 682,
     "status": "ok",
     "timestamp": 1642781559398,
     "user": {
      "displayName": "KOUKPAKI FERDINAND",
      "photoUrl": "https://lh3.googleusercontent.com/a-/AOh14GiKL7PXjDm88bhmysS8LfQbPMAgV43sIywZXZ9jDg=s64",
      "userId": "16926908185072904020"
     },
     "user_tz": -60
    },
    "id": "MbBengp3YVAN",
    "outputId": "5eefc9ed-8a33-44d5-9707-b55967951b1b"
   },
   "outputs": [
    {
     "name": "stdout",
     "output_type": "stream",
     "text": [
      "+-------+-------------------+------------------+\n",
      "|id_zone|                lat|               lng|\n",
      "+-------+-------------------+------------------+\n",
      "|      1|-11.784234676000215|-77.28648789023627|\n",
      "|      1|-11.873627286463377|-77.28648789023627|\n",
      "|      1|-11.869434808611365|-77.19452474207226|\n",
      "|      1| -11.78007195481368|-77.19452474207226|\n",
      "|      1|-11.784234676000215|-77.28648789023627|\n",
      "|      2|-12.479157220410556|-76.82596521434296|\n",
      "|      2|-12.569000505748466|-76.82596521434296|\n",
      "|      2|-12.564395154012836| -76.7336521407365|\n",
      "|      2|-12.474582671650962| -76.7336521407365|\n",
      "|      2|-12.479157220410556|-76.82596521434296|\n",
      "|      3|-12.201069396462607|-76.64127121444726|\n",
      "|      3| -12.29062991993957|-76.64127121444726|\n",
      "|      3| -12.28604810560784|  -76.548823150976|\n",
      "|      3|  -12.1965189187836|  -76.548823150976|\n",
      "|      3|-12.201069396462607|-76.64127121444726|\n",
      "|      4|-12.205585634694005| -76.7336521407365|\n",
      "|      4|-12.295177256777961| -76.7336521407365|\n",
      "|      4| -12.29062991993957|-76.64127121444726|\n",
      "|      4|-12.201069396462607|-76.64127121444726|\n",
      "|      4|-12.205585634694005| -76.7336521407365|\n",
      "+-------+-------------------+------------------+\n",
      "only showing top 20 rows\n",
      "\n"
     ]
    }
   ],
   "source": [
    "zones.show()"
   ]
  },
  {
   "cell_type": "code",
   "execution_count": 18,
   "metadata": {
    "executionInfo": {
     "elapsed": 240,
     "status": "ok",
     "timestamp": 1642789986876,
     "user": {
      "displayName": "KOUKPAKI FERDINAND",
      "photoUrl": "https://lh3.googleusercontent.com/a-/AOh14GiKL7PXjDm88bhmysS8LfQbPMAgV43sIywZXZ9jDg=s64",
      "userId": "16926908185072904020"
     },
     "user_tz": -60
    },
    "id": "FOm5cMkl6b7e"
   },
   "outputs": [],
   "source": [
    "from pyspark.sql import functions as f"
   ]
  },
  {
   "cell_type": "code",
   "execution_count": 19,
   "metadata": {
    "executionInfo": {
     "elapsed": 279,
     "status": "ok",
     "timestamp": 1642790218212,
     "user": {
      "displayName": "KOUKPAKI FERDINAND",
      "photoUrl": "https://lh3.googleusercontent.com/a-/AOh14GiKL7PXjDm88bhmysS8LfQbPMAgV43sIywZXZ9jDg=s64",
      "userId": "16926908185072904020"
     },
     "user_tz": -60
    },
    "id": "e6JR3zYm6oj9"
   },
   "outputs": [],
   "source": [
    "# We assume that a driver is inside a zone when its coordinates are included in the intervals formed by the minimum and maximum of the latitude and longitude of the polygon inside which it is located.\n",
    "zonesdf = zones.groupby(\"id_zone\").agg(f.max(\"lat\").alias(\"maxlat\"),\n",
    "                                        f.min(\"lat\").alias(\"minlat\"),\n",
    "                                        f.max(\"lng\").alias(\"maxlng\"),\n",
    "                                        f.min(\"lng\").alias(\"minlng\"))"
   ]
  },
  {
   "cell_type": "code",
   "execution_count": 20,
   "metadata": {
    "colab": {
     "base_uri": "https://localhost:8080/"
    },
    "executionInfo": {
     "elapsed": 895,
     "status": "ok",
     "timestamp": 1642790232263,
     "user": {
      "displayName": "KOUKPAKI FERDINAND",
      "photoUrl": "https://lh3.googleusercontent.com/a-/AOh14GiKL7PXjDm88bhmysS8LfQbPMAgV43sIywZXZ9jDg=s64",
      "userId": "16926908185072904020"
     },
     "user_tz": -60
    },
    "id": "oHcq_zgn6vQX",
    "outputId": "3a2d089a-d422-4460-9ca6-ea7621999773"
   },
   "outputs": [
    {
     "name": "stdout",
     "output_type": "stream",
     "text": [
      "+-------+-------------------+-------------------+------------------+------------------+\n",
      "|id_zone|             maxlat|             minlat|            maxlng|            minlng|\n",
      "+-------+-------------------+-------------------+------------------+------------------+\n",
      "|     26|-11.860950432726074|-11.954619512552217|-77.01038495147722|-77.10249019404858|\n",
      "|     29|-11.771647803699995| -11.86520920024759|-77.01038495147722|-77.10249019404858|\n",
      "|     19|-11.941652263135907|-12.035434603017723|-76.82596521434296|-76.91820972175559|\n",
      "|     22|-12.039787447923926|-12.133669908128265|-77.01038495147722|-77.10249019404858|\n",
      "|      7|-12.205585634694005|-12.299690140508726| -76.7336521407365|-76.82596521434296|\n",
      "|     34|-11.758764395010498| -11.85233331092545| -76.7336521407365|-76.82596521434296|\n",
      "|     50|-11.690787182377083|-11.784234676000215|-77.19452474207226|-77.28648789023627|\n",
      "|     32| -11.85233331092545|-11.946008121670031|-76.82596521434296|-76.91820972175559|\n",
      "|     43| -11.58907701296681|-11.682423285193128|-76.91820972175559|-77.01038495147722|\n",
      "|     31|-11.856658478459956| -11.95033052922269|-76.91820972175559|-77.01038495147722|\n",
      "|     39|-12.022173834035348|-12.116068939612953|-76.64127121444726| -76.7336521407365|\n",
      "|     25| -11.95033052922269|-12.044106631207434|-77.01038495147722|-77.10249019404858|\n",
      "|      6|-12.116068939612953|-12.210067657646714| -76.7336521407365|-76.82596521434296|\n",
      "|      9| -12.29062991993957|-12.384843153818448|-76.64127121444726| -76.7336521407365|\n",
      "|     27| -11.86520920024759| -11.95887509948719|-77.10249019404858|-77.19452474207226|\n",
      "|     51| -11.60158113334681|-11.694920132426248|-77.19452474207226|-77.28648789023627|\n",
      "|     17|-12.120520083794023|-12.214515490593072|-76.82596521434296|-76.91820972175559|\n",
      "|     41| -11.66963204013391|-11.763091856875702| -76.7336521407365|-76.82596521434296|\n",
      "|     28|-11.775876340179618|-11.869434808611365|-77.10249019404858|-77.19452474207226|\n",
      "|     33|-11.763091856875702|-11.856658478459956|-76.82596521434296|-76.91820972175559|\n",
      "+-------+-------------------+-------------------+------------------+------------------+\n",
      "only showing top 20 rows\n",
      "\n"
     ]
    }
   ],
   "source": [
    "zonesdf.show()"
   ]
  },
  {
   "cell_type": "code",
   "execution_count": 21,
   "metadata": {
    "executionInfo": {
     "elapsed": 240,
     "status": "ok",
     "timestamp": 1642790326744,
     "user": {
      "displayName": "KOUKPAKI FERDINAND",
      "photoUrl": "https://lh3.googleusercontent.com/a-/AOh14GiKL7PXjDm88bhmysS8LfQbPMAgV43sIywZXZ9jDg=s64",
      "userId": "16926908185072904020"
     },
     "user_tz": -60
    },
    "id": "KhdEg2wP7ukN"
   },
   "outputs": [],
   "source": [
    "# Join the DataFrames\n",
    "# Thus we were able to assign the drivers to the zones according to their coordinates and find the 10 most frequented zones.\n",
    "from pyspark.sql.functions import array_contains, round,max,min\n",
    "drivers_with_zones = drivers.join(zonesdf,(drivers.latitude.between(zonesdf.minlat,zonesdf.maxlat)) & (drivers.longitude.between(zonesdf.minlng,zonesdf.maxlng)), how='outer')\n"
   ]
  },
  {
   "cell_type": "code",
   "execution_count": 22,
   "metadata": {
    "colab": {
     "base_uri": "https://localhost:8080/"
    },
    "executionInfo": {
     "elapsed": 21200,
     "status": "ok",
     "timestamp": 1642790381506,
     "user": {
      "displayName": "KOUKPAKI FERDINAND",
      "photoUrl": "https://lh3.googleusercontent.com/a-/AOh14GiKL7PXjDm88bhmysS8LfQbPMAgV43sIywZXZ9jDg=s64",
      "userId": "16926908185072904020"
     },
     "user_tz": -60
    },
    "id": "f6nf7ndd74Ut",
    "outputId": "381b7c8c-580b-4bc7-b92a-b8a0f409c8c2"
   },
   "outputs": [
    {
     "name": "stdout",
     "output_type": "stream",
     "text": [
      "+--------+-------------------+----------+----------+-------+-------------------+-------------------+------------------+------------------+\n",
      "|  driver|          timestamp|  latitude| longitude|id_zone|             maxlat|             minlat|            maxlng|            minlng|\n",
      "+--------+-------------------+----------+----------+-------+-------------------+-------------------+------------------+------------------+\n",
      "|ab7a6c63|2017-08-31 14:24:26|-12.072973|-77.061448|     22|-12.039787447923926|-12.133669908128265|-77.01038495147722|-77.10249019404858|\n",
      "|5ee73484|2017-08-31 14:24:26|-12.067694|-77.068442|     22|-12.039787447923926|-12.133669908128265|-77.01038495147722|-77.10249019404858|\n",
      "|4c299505|2017-08-31 14:24:11| -11.96459|-77.015983|     25| -11.95033052922269|-12.044106631207434|-77.01038495147722|-77.10249019404858|\n",
      "|49f033bd|2017-08-31 14:24:11|  -12.0906|-77.069808|     22|-12.039787447923926|-12.133669908128265|-77.01038495147722|-77.10249019404858|\n",
      "|f8d5c453|2017-08-31 14:24:11|-12.080683|-77.036188|     22|-12.039787447923926|-12.133669908128265|-77.01038495147722|-77.10249019404858|\n",
      "|ee744228|2017-08-31 14:24:30|-12.120202|-77.035704|     22|-12.039787447923926|-12.133669908128265|-77.01038495147722|-77.10249019404858|\n",
      "|e26ff40f|2017-08-31 14:24:31|-12.130376|-77.017779|     22|-12.039787447923926|-12.133669908128265|-77.01038495147722|-77.10249019404858|\n",
      "|3697a724|2017-08-31 14:24:31|-12.097054|-77.032223|     22|-12.039787447923926|-12.133669908128265|-77.01038495147722|-77.10249019404858|\n",
      "|d95a2bf5|2017-08-31 14:24:32|-12.078153|-77.086783|     22|-12.039787447923926|-12.133669908128265|-77.01038495147722|-77.10249019404858|\n",
      "|af363d57|2017-08-31 14:24:32|-12.093504|-77.059632|     22|-12.039787447923926|-12.133669908128265|-77.01038495147722|-77.10249019404858|\n",
      "|06de75ad|2017-08-31 14:24:32|-12.078352| -77.09832|     22|-12.039787447923926|-12.133669908128265|-77.01038495147722|-77.10249019404858|\n",
      "|965fc02d|2017-08-31 14:24:32|-12.090722|-77.084898|     22|-12.039787447923926|-12.133669908128265|-77.01038495147722|-77.10249019404858|\n",
      "|b479ab3e|2017-08-31 14:24:32|-12.089654|-77.014723|     22|-12.039787447923926|-12.133669908128265|-77.01038495147722|-77.10249019404858|\n",
      "|6b069269|2017-08-31 14:24:35|-12.075543|-77.076423|     22|-12.039787447923926|-12.133669908128265|-77.01038495147722|-77.10249019404858|\n",
      "|a7933224|2017-08-31 14:24:35|-12.074638|-77.053594|     22|-12.039787447923926|-12.133669908128265|-77.01038495147722|-77.10249019404858|\n",
      "|b6b7ac3f|2017-08-31 14:24:35|-12.070548|-77.092093|     22|-12.039787447923926|-12.133669908128265|-77.01038495147722|-77.10249019404858|\n",
      "|1d8e114f|2017-08-31 14:24:35|-12.005527|-77.088851|     25| -11.95033052922269|-12.044106631207434|-77.01038495147722|-77.10249019404858|\n",
      "|9cf34204|2017-08-31 14:24:29|-12.089739|-77.058383|     22|-12.039787447923926|-12.133669908128265|-77.01038495147722|-77.10249019404858|\n",
      "|d374f88c|2017-08-31 14:24:30| -12.08019| -77.07057|     22|-12.039787447923926|-12.133669908128265|-77.01038495147722|-77.10249019404858|\n",
      "|d3911158|2017-08-31 14:24:30|-12.051337|-77.098121|     22|-12.039787447923926|-12.133669908128265|-77.01038495147722|-77.10249019404858|\n",
      "+--------+-------------------+----------+----------+-------+-------------------+-------------------+------------------+------------------+\n",
      "only showing top 20 rows\n",
      "\n"
     ]
    }
   ],
   "source": [
    "drivers_with_zones.filter(drivers_with_zones.id_zone.isNotNull()).show()"
   ]
  },
  {
   "cell_type": "code",
   "execution_count": 23,
   "metadata": {
    "colab": {
     "base_uri": "https://localhost:8080/"
    },
    "executionInfo": {
     "elapsed": 28723,
     "status": "ok",
     "timestamp": 1642790498136,
     "user": {
      "displayName": "KOUKPAKI FERDINAND",
      "photoUrl": "https://lh3.googleusercontent.com/a-/AOh14GiKL7PXjDm88bhmysS8LfQbPMAgV43sIywZXZ9jDg=s64",
      "userId": "16926908185072904020"
     },
     "user_tz": -60
    },
    "id": "gasH6Nmn8SLv",
    "outputId": "ed49a6db-4ec3-48d1-b0ee-b23c1bd78400"
   },
   "outputs": [
    {
     "name": "stdout",
     "output_type": "stream",
     "text": [
      "+-------+-------+\n",
      "|id_zone|  count|\n",
      "+-------+-------+\n",
      "|     22|1997917|\n",
      "|     21|1029105|\n",
      "|     14| 338673|\n",
      "|     25| 252043|\n",
      "|     13| 156504|\n",
      "|     20|  81069|\n",
      "|     23|  55152|\n",
      "|     24|  49578|\n",
      "|     26|  48650|\n",
      "|     15|  18404|\n",
      "+-------+-------+\n",
      "only showing top 10 rows\n",
      "\n"
     ]
    }
   ],
   "source": [
    "drivers_with_zones.groupby('id_zone').count().orderBy('count', ascending=False).filter(drivers_with_zones.id_zone.isNotNull()).show(10)"
   ]
  },
  {
   "cell_type": "markdown",
   "metadata": {
    "id": "-N1CNCRltqsp"
   },
   "source": [
    "Discuss how Spark parallelizes the computation\n",
    "\n",
    "Parallelization is a method of creating an RDD from an existing collection or array in a submersible. Items in the collection are copied to form distributed datasets that we can exploit in parallel.\n",
    "\n",
    "This means that spark divides data frames into smaller datasets, distributes and converts them into pandas objects, and applies functions to them. Finally, the results are combined back into a large Spark dataframe.\n",
    "\n",
    "In other words, by using the parallelization approach, Spark runs two or more parts of a single large data set as a separate process, reducing processing time and improving performance.\n",
    "\n",
    "Parallelization algorithm:\n",
    "\n",
    "1. Spark runs the program and submits the job using \"Spark-submit\", which is used to launch the program on the cluster.\n",
    "2. After the job is submitted, the job is forwarded to the SparkContext driver. The Spark context driver is the ingress port for Spark.\n",
    "3. SC routes the program to modules such as the cluster master node and RDD created by the Sparkcontext driver.\n",
    "4. The program is then provided to the cluster master node (including the executor), each cluster has a master node, performing all the necessary processing. It forwards the program further to the worker node (to solve the problem)."
   ]
  },
  {
   "cell_type": "code",
   "execution_count": 24,
   "metadata": {
    "colab": {
     "base_uri": "https://localhost:8080/"
    },
    "executionInfo": {
     "elapsed": 282,
     "status": "ok",
     "timestamp": 1642792394222,
     "user": {
      "displayName": "KOUKPAKI FERDINAND",
      "photoUrl": "https://lh3.googleusercontent.com/a-/AOh14GiKL7PXjDm88bhmysS8LfQbPMAgV43sIywZXZ9jDg=s64",
      "userId": "16926908185072904020"
     },
     "user_tz": -60
    },
    "id": "jNfUgAZxDSxs",
    "outputId": "0c3ffca3-80f4-4688-f414-cdeab9fb9242"
   },
   "outputs": [
    {
     "name": "stdout",
     "output_type": "stream",
     "text": [
      "+--------+-------------------+----------+----------+\n",
      "|  driver|          timestamp|  latitude| longitude|\n",
      "+--------+-------------------+----------+----------+\n",
      "|c473205b|2017-08-31 14:24:25|-12.106778|-76.998078|\n",
      "|a0f3b4e1|2017-08-31 14:24:26|-12.103913|-76.963727|\n",
      "|1236f9fe|2017-08-31 14:24:26|-12.133777|-77.004266|\n",
      "|ae4a06a2|2017-08-31 14:24:26|-12.085963|-76.987582|\n",
      "|ab7a6c63|2017-08-31 14:24:26|-12.072973|-77.061448|\n",
      "|5ee73484|2017-08-31 14:24:26|-12.067694|-77.068442|\n",
      "|4fff90cb|2017-08-31 14:24:26|-12.144308|-76.989234|\n",
      "|d892d208|2017-08-31 14:24:26|-16.401221|-71.499513|\n",
      "|e9f90dfb|2017-08-31 14:24:10|-12.063665|-76.963254|\n",
      "|c1719f8d|2017-08-31 14:24:10|-12.070187|-76.994167|\n",
      "|4c299505|2017-08-31 14:24:11| -11.96459|-77.015983|\n",
      "|49f033bd|2017-08-31 14:24:11|  -12.0906|-77.069808|\n",
      "|749df32a|2017-08-31 14:24:11|-12.109964| -76.97535|\n",
      "|f8d5c453|2017-08-31 14:24:11|-12.080683|-77.036188|\n",
      "|4314c58a|2017-08-31 14:24:11|-16.404571|-71.519775|\n",
      "|914f7296|2017-08-31 14:24:11|-12.218541|-76.928484|\n",
      "|ee744228|2017-08-31 14:24:30|-12.120202|-77.035704|\n",
      "|353c20b9|2017-08-31 14:24:31|-12.119177|-76.997462|\n",
      "|483e84f9|2017-08-31 14:24:31|-12.109511|-76.995862|\n",
      "|e26ff40f|2017-08-31 14:24:31|-12.130376|-77.017779|\n",
      "+--------+-------------------+----------+----------+\n",
      "only showing top 20 rows\n",
      "\n"
     ]
    }
   ],
   "source": [
    "#Exercise 2\n",
    "drivers.select(['driver', 'timestamp', 'latitude', 'longitude']).show()"
   ]
  },
  {
   "cell_type": "code",
   "execution_count": 25,
   "metadata": {
    "colab": {
     "base_uri": "https://localhost:8080/"
    },
    "executionInfo": {
     "elapsed": 336,
     "status": "ok",
     "timestamp": 1642792681938,
     "user": {
      "displayName": "KOUKPAKI FERDINAND",
      "photoUrl": "https://lh3.googleusercontent.com/a-/AOh14GiKL7PXjDm88bhmysS8LfQbPMAgV43sIywZXZ9jDg=s64",
      "userId": "16926908185072904020"
     },
     "user_tz": -60
    },
    "id": "dcYzzpjqEEcJ",
    "outputId": "dbb17ca0-ad74-4b32-c856-355a8ef6aa41"
   },
   "outputs": [
    {
     "name": "stdout",
     "output_type": "stream",
     "text": [
      "+--------+----------+----------+-------------------+\n",
      "|  driver|  latitude| longitude|          timestamp|\n",
      "+--------+----------+----------+-------------------+\n",
      "|c473205b|-12.106778|-76.998078|2017-08-31 14:24:25|\n",
      "|a0f3b4e1|-12.103913|-76.963727|2017-08-31 14:24:26|\n",
      "|1236f9fe|-12.133777|-77.004266|2017-08-31 14:24:26|\n",
      "|ae4a06a2|-12.085963|-76.987582|2017-08-31 14:24:26|\n",
      "|ab7a6c63|-12.072973|-77.061448|2017-08-31 14:24:26|\n",
      "|5ee73484|-12.067694|-77.068442|2017-08-31 14:24:26|\n",
      "|4fff90cb|-12.144308|-76.989234|2017-08-31 14:24:26|\n",
      "|d892d208|-16.401221|-71.499513|2017-08-31 14:24:26|\n",
      "|e9f90dfb|-12.063665|-76.963254|2017-08-31 14:24:10|\n",
      "|c1719f8d|-12.070187|-76.994167|2017-08-31 14:24:10|\n",
      "|4c299505| -11.96459|-77.015983|2017-08-31 14:24:11|\n",
      "|49f033bd|  -12.0906|-77.069808|2017-08-31 14:24:11|\n",
      "|749df32a|-12.109964| -76.97535|2017-08-31 14:24:11|\n",
      "|f8d5c453|-12.080683|-77.036188|2017-08-31 14:24:11|\n",
      "|4314c58a|-16.404571|-71.519775|2017-08-31 14:24:11|\n",
      "|914f7296|-12.218541|-76.928484|2017-08-31 14:24:11|\n",
      "|ee744228|-12.120202|-77.035704|2017-08-31 14:24:30|\n",
      "|353c20b9|-12.119177|-76.997462|2017-08-31 14:24:31|\n",
      "|483e84f9|-12.109511|-76.995862|2017-08-31 14:24:31|\n",
      "|e26ff40f|-12.130376|-77.017779|2017-08-31 14:24:31|\n",
      "+--------+----------+----------+-------------------+\n",
      "only showing top 20 rows\n",
      "\n"
     ]
    }
   ],
   "source": [
    "drivers= drivers.select(f.col(\"driver\"),f.col(\"latitude\"),f.col(\"longitude\"),f.to_timestamp(f.col(\"timestamp\")).alias(\"timestamp\"))\n",
    "drivers.show()\n"
   ]
  },
  {
   "cell_type": "code",
   "execution_count": 27,
   "metadata": {
    "colab": {
     "base_uri": "https://localhost:8080/"
    },
    "executionInfo": {
     "elapsed": 301,
     "status": "ok",
     "timestamp": 1642793168879,
     "user": {
      "displayName": "KOUKPAKI FERDINAND",
      "photoUrl": "https://lh3.googleusercontent.com/a-/AOh14GiKL7PXjDm88bhmysS8LfQbPMAgV43sIywZXZ9jDg=s64",
      "userId": "16926908185072904020"
     },
     "user_tz": -60
    },
    "id": "fwfIJ4emF2m3",
    "outputId": "7c977823-5e1e-4622-afd2-e5aa729b94d5"
   },
   "outputs": [
    {
     "name": "stdout",
     "output_type": "stream",
     "text": [
      "[('driver', 'string'), ('latitude', 'double'), ('longitude', 'double'), ('timestamp', 'timestamp'), ('id_zone', 'bigint'), ('maxlat', 'double'), ('minlat', 'double'), ('maxlng', 'double'), ('minlng', 'double')]\n"
     ]
    }
   ],
   "source": [
    "drivers_with_zones = drivers_with_zones.select(f.col(\"driver\"),f.col(\"latitude\"),f.col(\"longitude\"),f.col(\"timestamp\"),f.col('id_zone'),f.col('maxlat'),f.col('minlat'),f.col('maxlng'),f.col('minlng'))\n",
    "print(drivers_with_zones.dtypes)\n"
   ]
  },
  {
   "cell_type": "code",
   "execution_count": 28,
   "metadata": {
    "colab": {
     "base_uri": "https://localhost:8080/"
    },
    "executionInfo": {
     "elapsed": 24584,
     "status": "ok",
     "timestamp": 1642793234976,
     "user": {
      "displayName": "KOUKPAKI FERDINAND",
      "photoUrl": "https://lh3.googleusercontent.com/a-/AOh14GiKL7PXjDm88bhmysS8LfQbPMAgV43sIywZXZ9jDg=s64",
      "userId": "16926908185072904020"
     },
     "user_tz": -60
    },
    "id": "oVOcR_M1F87T",
    "outputId": "9b4291fb-6afc-468a-dcaa-0666546cf10b"
   },
   "outputs": [
    {
     "name": "stdout",
     "output_type": "stream",
     "text": [
      "+--------+----------+----------+-------------------+-------+-------------------+-------------------+------------------+------------------+\n",
      "|  driver|  latitude| longitude|          timestamp|id_zone|             maxlat|             minlat|            maxlng|            minlng|\n",
      "+--------+----------+----------+-------------------+-------+-------------------+-------------------+------------------+------------------+\n",
      "|c473205b|-12.106778|-76.998078|2017-08-31 14:24:25|     21|-12.035434603017723|-12.129320541365702|-76.91820972175559|-77.01038495147722|\n",
      "|a0f3b4e1|-12.103913|-76.963727|2017-08-31 14:24:26|     21|-12.035434603017723|-12.129320541365702|-76.91820972175559|-77.01038495147722|\n",
      "|1236f9fe|-12.133777|-77.004266|2017-08-31 14:24:26|     14|-12.124937275664365|-12.218929159905016|-76.91820972175559|-77.01038495147722|\n",
      "|ae4a06a2|-12.085963|-76.987582|2017-08-31 14:24:26|     21|-12.035434603017723|-12.129320541365702|-76.91820972175559|-77.01038495147722|\n",
      "|ab7a6c63|-12.072973|-77.061448|2017-08-31 14:24:26|     22|-12.039787447923926|-12.133669908128265|-77.01038495147722|-77.10249019404858|\n",
      "|5ee73484|-12.067694|-77.068442|2017-08-31 14:24:26|     22|-12.039787447923926|-12.133669908128265|-77.01038495147722|-77.10249019404858|\n",
      "|4fff90cb|-12.144308|-76.989234|2017-08-31 14:24:26|     14|-12.124937275664365|-12.218929159905016|-76.91820972175559|-77.01038495147722|\n",
      "|d892d208|-16.401221|-71.499513|2017-08-31 14:24:26|   null|               null|               null|              null|              null|\n",
      "|e9f90dfb|-12.063665|-76.963254|2017-08-31 14:24:10|     21|-12.035434603017723|-12.129320541365702|-76.91820972175559|-77.01038495147722|\n",
      "|c1719f8d|-12.070187|-76.994167|2017-08-31 14:24:10|     21|-12.035434603017723|-12.129320541365702|-76.91820972175559|-77.01038495147722|\n",
      "|4c299505| -11.96459|-77.015983|2017-08-31 14:24:11|     25| -11.95033052922269|-12.044106631207434|-77.01038495147722|-77.10249019404858|\n",
      "|49f033bd|  -12.0906|-77.069808|2017-08-31 14:24:11|     22|-12.039787447923926|-12.133669908128265|-77.01038495147722|-77.10249019404858|\n",
      "|749df32a|-12.109964| -76.97535|2017-08-31 14:24:11|     21|-12.035434603017723|-12.129320541365702|-76.91820972175559|-77.01038495147722|\n",
      "|f8d5c453|-12.080683|-77.036188|2017-08-31 14:24:11|     22|-12.039787447923926|-12.133669908128265|-77.01038495147722|-77.10249019404858|\n",
      "|4314c58a|-16.404571|-71.519775|2017-08-31 14:24:11|   null|               null|               null|              null|              null|\n",
      "|914f7296|-12.218541|-76.928484|2017-08-31 14:24:11|     14|-12.124937275664365|-12.218929159905016|-76.91820972175559|-77.01038495147722|\n",
      "|914f7296|-12.218541|-76.928484|2017-08-31 14:24:11|     15|-12.214515490593072|-12.308612651739425|-76.91820972175559|-77.01038495147722|\n",
      "|ee744228|-12.120202|-77.035704|2017-08-31 14:24:30|     22|-12.039787447923926|-12.133669908128265|-77.01038495147722|-77.10249019404858|\n",
      "|353c20b9|-12.119177|-76.997462|2017-08-31 14:24:31|     21|-12.035434603017723|-12.129320541365702|-76.91820972175559|-77.01038495147722|\n",
      "|483e84f9|-12.109511|-76.995862|2017-08-31 14:24:31|     21|-12.035434603017723|-12.129320541365702|-76.91820972175559|-77.01038495147722|\n",
      "+--------+----------+----------+-------------------+-------+-------------------+-------------------+------------------+------------------+\n",
      "only showing top 20 rows\n",
      "\n"
     ]
    }
   ],
   "source": [
    "drivers_with_zones.show()"
   ]
  },
  {
   "cell_type": "code",
   "execution_count": 29,
   "metadata": {
    "colab": {
     "base_uri": "https://localhost:8080/"
    },
    "executionInfo": {
     "elapsed": 23875,
     "status": "ok",
     "timestamp": 1642794443497,
     "user": {
      "displayName": "KOUKPAKI FERDINAND",
      "photoUrl": "https://lh3.googleusercontent.com/a-/AOh14GiKL7PXjDm88bhmysS8LfQbPMAgV43sIywZXZ9jDg=s64",
      "userId": "16926908185072904020"
     },
     "user_tz": -60
    },
    "id": "RucDbi9yIVMp",
    "outputId": "26b36e62-f60d-49dd-ac97-be4c89c44662"
   },
   "outputs": [
    {
     "name": "stdout",
     "output_type": "stream",
     "text": [
      "+--------+----------+----------+-------------------+-------+-------------------+-------------------+------------------+------------------+----------+\n",
      "|  driver|  latitude| longitude|          timestamp|id_zone|             maxlat|             minlat|            maxlng|            minlng|      test|\n",
      "+--------+----------+----------+-------------------+-------+-------------------+-------------------+------------------+------------------+----------+\n",
      "|c473205b|-12.106778|-76.998078|2017-08-31 14:24:25|     21|-12.035434603017723|-12.129320541365702|-76.91820972175559|-77.01038495147722|-24.213556|\n",
      "|a0f3b4e1|-12.103913|-76.963727|2017-08-31 14:24:26|     21|-12.035434603017723|-12.129320541365702|-76.91820972175559|-77.01038495147722|-24.207826|\n",
      "|1236f9fe|-12.133777|-77.004266|2017-08-31 14:24:26|     14|-12.124937275664365|-12.218929159905016|-76.91820972175559|-77.01038495147722|-24.267554|\n",
      "|ae4a06a2|-12.085963|-76.987582|2017-08-31 14:24:26|     21|-12.035434603017723|-12.129320541365702|-76.91820972175559|-77.01038495147722|-24.171926|\n",
      "|ab7a6c63|-12.072973|-77.061448|2017-08-31 14:24:26|     22|-12.039787447923926|-12.133669908128265|-77.01038495147722|-77.10249019404858|-24.145946|\n",
      "|5ee73484|-12.067694|-77.068442|2017-08-31 14:24:26|     22|-12.039787447923926|-12.133669908128265|-77.01038495147722|-77.10249019404858|-24.135388|\n",
      "|4fff90cb|-12.144308|-76.989234|2017-08-31 14:24:26|     14|-12.124937275664365|-12.218929159905016|-76.91820972175559|-77.01038495147722|-24.288616|\n",
      "|d892d208|-16.401221|-71.499513|2017-08-31 14:24:26|   null|               null|               null|              null|              null|-32.802442|\n",
      "|e9f90dfb|-12.063665|-76.963254|2017-08-31 14:24:10|     21|-12.035434603017723|-12.129320541365702|-76.91820972175559|-77.01038495147722| -24.12733|\n",
      "|c1719f8d|-12.070187|-76.994167|2017-08-31 14:24:10|     21|-12.035434603017723|-12.129320541365702|-76.91820972175559|-77.01038495147722|-24.140374|\n",
      "|4c299505| -11.96459|-77.015983|2017-08-31 14:24:11|     25| -11.95033052922269|-12.044106631207434|-77.01038495147722|-77.10249019404858| -23.92918|\n",
      "|49f033bd|  -12.0906|-77.069808|2017-08-31 14:24:11|     22|-12.039787447923926|-12.133669908128265|-77.01038495147722|-77.10249019404858|  -24.1812|\n",
      "|749df32a|-12.109964| -76.97535|2017-08-31 14:24:11|     21|-12.035434603017723|-12.129320541365702|-76.91820972175559|-77.01038495147722|-24.219928|\n",
      "|f8d5c453|-12.080683|-77.036188|2017-08-31 14:24:11|     22|-12.039787447923926|-12.133669908128265|-77.01038495147722|-77.10249019404858|-24.161366|\n",
      "|4314c58a|-16.404571|-71.519775|2017-08-31 14:24:11|   null|               null|               null|              null|              null|-32.809142|\n",
      "|914f7296|-12.218541|-76.928484|2017-08-31 14:24:11|     14|-12.124937275664365|-12.218929159905016|-76.91820972175559|-77.01038495147722|-24.437082|\n",
      "|914f7296|-12.218541|-76.928484|2017-08-31 14:24:11|     15|-12.214515490593072|-12.308612651739425|-76.91820972175559|-77.01038495147722|-24.437082|\n",
      "|ee744228|-12.120202|-77.035704|2017-08-31 14:24:30|     22|-12.039787447923926|-12.133669908128265|-77.01038495147722|-77.10249019404858|-24.240404|\n",
      "|353c20b9|-12.119177|-76.997462|2017-08-31 14:24:31|     21|-12.035434603017723|-12.129320541365702|-76.91820972175559|-77.01038495147722|-24.238354|\n",
      "|483e84f9|-12.109511|-76.995862|2017-08-31 14:24:31|     21|-12.035434603017723|-12.129320541365702|-76.91820972175559|-77.01038495147722|-24.219022|\n",
      "+--------+----------+----------+-------------------+-------+-------------------+-------------------+------------------+------------------+----------+\n",
      "only showing top 20 rows\n",
      "\n"
     ]
    }
   ],
   "source": [
    "drivers_with_zones.withColumn(\"test\", f.col(\"latitude\")*2).show()\n"
   ]
  },
  {
   "cell_type": "code",
   "execution_count": 31,
   "metadata": {
    "colab": {
     "base_uri": "https://localhost:8080/"
    },
    "executionInfo": {
     "elapsed": 22951,
     "status": "ok",
     "timestamp": 1642795096944,
     "user": {
      "displayName": "KOUKPAKI FERDINAND",
      "photoUrl": "https://lh3.googleusercontent.com/a-/AOh14GiKL7PXjDm88bhmysS8LfQbPMAgV43sIywZXZ9jDg=s64",
      "userId": "16926908185072904020"
     },
     "user_tz": -60
    },
    "id": "2vRErA7eN21q",
    "outputId": "93912a1b-69cc-4698-c35c-86bfd667ae25"
   },
   "outputs": [
    {
     "ename": "SyntaxError",
     "evalue": "unexpected EOF while parsing (<ipython-input-31-5cb9d7630e75>, line 1)",
     "output_type": "error",
     "traceback": [
      "\u001b[1;36m  File \u001b[1;32m\"<ipython-input-31-5cb9d7630e75>\"\u001b[1;36m, line \u001b[1;32m1\u001b[0m\n\u001b[1;33m    drivers_with_zones.withColumn(\"year\", f.year(f.col(\"timestamp\")).show()\u001b[0m\n\u001b[1;37m                                                                           ^\u001b[0m\n\u001b[1;31mSyntaxError\u001b[0m\u001b[1;31m:\u001b[0m unexpected EOF while parsing\n"
     ]
    }
   ],
   "source": [
    "drivers_with_zones.withColumn(\"year\", f.year(f.col(\"timestamp\")).show()"
   ]
  },
  {
   "cell_type": "code",
   "execution_count": null,
   "metadata": {
    "colab": {
     "base_uri": "https://localhost:8080/"
    },
    "executionInfo": {
     "elapsed": 23001,
     "status": "ok",
     "timestamp": 1642795200118,
     "user": {
      "displayName": "KOUKPAKI FERDINAND",
      "photoUrl": "https://lh3.googleusercontent.com/a-/AOh14GiKL7PXjDm88bhmysS8LfQbPMAgV43sIywZXZ9jDg=s64",
      "userId": "16926908185072904020"
     },
     "user_tz": -60
    },
    "id": "2fod4pJlOP7b",
    "outputId": "ba4ccf99-d124-4762-e673-4e087d87cce2"
   },
   "outputs": [],
   "source": [
    "drivers_with_zones = drivers_with_zones.withColumn(\"year\", f.year(f.col(\"to_timestamp(timestamp)\")))\n",
    "drivers_with_zones = drivers_with_zones.withColumn(\"month\", f.month(f.col(\"to_timestamp(timestamp)\")))\n",
    "drivers_with_zones = drivers_with_zones.withColumn(\"day\", f.dayofweek(f.col(\"to_timestamp(timestamp)\")))\n",
    "drivers_with_zones.show()"
   ]
  },
  {
   "cell_type": "code",
   "execution_count": null,
   "metadata": {
    "colab": {
     "base_uri": "https://localhost:8080/"
    },
    "executionInfo": {
     "elapsed": 55005,
     "status": "ok",
     "timestamp": 1642795599739,
     "user": {
      "displayName": "KOUKPAKI FERDINAND",
      "photoUrl": "https://lh3.googleusercontent.com/a-/AOh14GiKL7PXjDm88bhmysS8LfQbPMAgV43sIywZXZ9jDg=s64",
      "userId": "16926908185072904020"
     },
     "user_tz": -60
    },
    "id": "Mfe-O2BmPp3k",
    "outputId": "c3addaee-aa50-4cb4-a02a-5bdf8c1a99f0"
   },
   "outputs": [],
   "source": [
    "drivers_with_zones.groupBy([\"id_zone\",\"month\"]).count().show()"
   ]
  },
  {
   "cell_type": "code",
   "execution_count": null,
   "metadata": {
    "colab": {
     "base_uri": "https://localhost:8080/"
    },
    "executionInfo": {
     "elapsed": 49586,
     "status": "ok",
     "timestamp": 1642795932785,
     "user": {
      "displayName": "KOUKPAKI FERDINAND",
      "photoUrl": "https://lh3.googleusercontent.com/a-/AOh14GiKL7PXjDm88bhmysS8LfQbPMAgV43sIywZXZ9jDg=s64",
      "userId": "16926908185072904020"
     },
     "user_tz": -60
    },
    "id": "lESKSWMJQ8cj",
    "outputId": "b7dbfc46-6405-438f-e4f0-b1de97198aa9"
   },
   "outputs": [],
   "source": [
    "test = drivers_with_zones.groupBy([\"id_zone\",\"month\"]).count()\n",
    "print((test.count(), len(test.columns)))\n"
   ]
  },
  {
   "cell_type": "code",
   "execution_count": null,
   "metadata": {
    "colab": {
     "base_uri": "https://localhost:8080/"
    },
    "executionInfo": {
     "elapsed": 756,
     "status": "ok",
     "timestamp": 1642796218391,
     "user": {
      "displayName": "KOUKPAKI FERDINAND",
      "photoUrl": "https://lh3.googleusercontent.com/a-/AOh14GiKL7PXjDm88bhmysS8LfQbPMAgV43sIywZXZ9jDg=s64",
      "userId": "16926908185072904020"
     },
     "user_tz": -60
    },
    "id": "43Dm8Gr_Ru5C",
    "outputId": "85a1a387-3008-46ff-be54-723e1369e74b"
   },
   "outputs": [],
   "source": [
    "import pandas as pd    \n",
    "#spark.conf.set(\"spark.sql.execution.arrow.enabled\", \"true\")\n",
    "month_pandasDF=test.toPandas()\n",
    "print(month_pandasDF.shape)"
   ]
  },
  {
   "cell_type": "code",
   "execution_count": null,
   "metadata": {
    "colab": {
     "base_uri": "https://localhost:8080/",
     "height": 206
    },
    "executionInfo": {
     "elapsed": 361,
     "status": "ok",
     "timestamp": 1642796281894,
     "user": {
      "displayName": "KOUKPAKI FERDINAND",
      "photoUrl": "https://lh3.googleusercontent.com/a-/AOh14GiKL7PXjDm88bhmysS8LfQbPMAgV43sIywZXZ9jDg=s64",
      "userId": "16926908185072904020"
     },
     "user_tz": -60
    },
    "id": "Ws6zPCU1Sdn-",
    "outputId": "abf57062-cf2b-46a9-a8c7-5f60da71b192"
   },
   "outputs": [],
   "source": [
    "month_pandasDF.head()\n"
   ]
  },
  {
   "cell_type": "code",
   "execution_count": null,
   "metadata": {
    "executionInfo": {
     "elapsed": 234,
     "status": "ok",
     "timestamp": 1642800810226,
     "user": {
      "displayName": "KOUKPAKI FERDINAND",
      "photoUrl": "https://lh3.googleusercontent.com/a-/AOh14GiKL7PXjDm88bhmysS8LfQbPMAgV43sIywZXZ9jDg=s64",
      "userId": "16926908185072904020"
     },
     "user_tz": -60
    },
    "id": "ymdX8bBJWLVR"
   },
   "outputs": [],
   "source": [
    "import matplotlib.pyplot as plt"
   ]
  },
  {
   "cell_type": "code",
   "execution_count": null,
   "metadata": {
    "executionInfo": {
     "elapsed": 419,
     "status": "ok",
     "timestamp": 1642799467064,
     "user": {
      "displayName": "KOUKPAKI FERDINAND",
      "photoUrl": "https://lh3.googleusercontent.com/a-/AOh14GiKL7PXjDm88bhmysS8LfQbPMAgV43sIywZXZ9jDg=s64",
      "userId": "16926908185072904020"
     },
     "user_tz": -60
    },
    "id": "YNHb33Hvem_I"
   },
   "outputs": [],
   "source": [
    "def get_plot(sparkdf,groupby_col):\n",
    "  sparkdf = sparkdf.groupBy(groupby_col).count()\n",
    "  # Convert to pandas.DataFrame\n",
    "  pandas_df=sparkdf.toPandas()\n",
    "  print(\"Dataframe shape : \",pandas_df.shape)\n",
    "  # count normalization\n",
    "  pandas_df[\"normalize_count\"] = pandas_df[\"count\"]/sum(pandas_df[\"count\"])\n",
    "  # plot\n",
    "  plt.figure(figsize=(12,8))\n",
    "  plt.bar(x = pandas_df[\"id_zone\"], height = pandas_df[\"normalize_count\"])\n",
    "  plt.xlabel(\"id_zone\")\n",
    "  plt.ylabel(groupby_col[1])\n",
    "  plt.title(f\"Distribution by Zones for {groupby_col[1]}\")\n",
    "\n",
    "  plt.show()"
   ]
  },
  {
   "cell_type": "code",
   "execution_count": null,
   "metadata": {
    "colab": {
     "base_uri": "https://localhost:8080/",
     "height": 531
    },
    "executionInfo": {
     "elapsed": 47474,
     "status": "ok",
     "timestamp": 1642799562649,
     "user": {
      "displayName": "KOUKPAKI FERDINAND",
      "photoUrl": "https://lh3.googleusercontent.com/a-/AOh14GiKL7PXjDm88bhmysS8LfQbPMAgV43sIywZXZ9jDg=s64",
      "userId": "16926908185072904020"
     },
     "user_tz": -60
    },
    "id": "kRb149VxezLd",
    "outputId": "407e1044-d1ec-40e0-e841-5f507aa32c39"
   },
   "outputs": [],
   "source": [
    "get_plot(drivers_with_zones,[\"id_zone\",\"month\"])"
   ]
  },
  {
   "cell_type": "code",
   "execution_count": null,
   "metadata": {
    "colab": {
     "base_uri": "https://localhost:8080/",
     "height": 531
    },
    "executionInfo": {
     "elapsed": 46315,
     "status": "ok",
     "timestamp": 1642799669778,
     "user": {
      "displayName": "KOUKPAKI FERDINAND",
      "photoUrl": "https://lh3.googleusercontent.com/a-/AOh14GiKL7PXjDm88bhmysS8LfQbPMAgV43sIywZXZ9jDg=s64",
      "userId": "16926908185072904020"
     },
     "user_tz": -60
    },
    "id": "NiMdy7OUfESd",
    "outputId": "4ae05aab-76cb-49c2-be5d-e52ed86468a3"
   },
   "outputs": [],
   "source": [
    "get_plot(drivers_with_zones,[\"id_zone\",\"year\"])\n"
   ]
  },
  {
   "cell_type": "code",
   "execution_count": null,
   "metadata": {
    "executionInfo": {
     "elapsed": 247,
     "status": "ok",
     "timestamp": 1642799843386,
     "user": {
      "displayName": "KOUKPAKI FERDINAND",
      "photoUrl": "https://lh3.googleusercontent.com/a-/AOh14GiKL7PXjDm88bhmysS8LfQbPMAgV43sIywZXZ9jDg=s64",
      "userId": "16926908185072904020"
     },
     "user_tz": -60
    },
    "id": "aoBZV_Bqf4l2"
   },
   "outputs": [],
   "source": [
    "def get_data(sparkdf,groupby_col):\n",
    "  sparkdf = sparkdf.groupBy(groupby_col).count()\n",
    "  # Convert to pandas.DataFrame\n",
    "  pandas_df=sparkdf.toPandas()\n",
    "  print(\"Dataframe shape : \",pandas_df.shape)\n",
    "  # count normalization\n",
    "  pandas_df[\"normalize_count\"] = pandas_df[\"count\"]/sum(pandas_df[\"count\"])\n",
    "  return pandas_df"
   ]
  },
  {
   "cell_type": "code",
   "execution_count": null,
   "metadata": {
    "colab": {
     "base_uri": "https://localhost:8080/",
     "height": 1000
    },
    "executionInfo": {
     "elapsed": 47595,
     "status": "ok",
     "timestamp": 1642799930635,
     "user": {
      "displayName": "KOUKPAKI FERDINAND",
      "photoUrl": "https://lh3.googleusercontent.com/a-/AOh14GiKL7PXjDm88bhmysS8LfQbPMAgV43sIywZXZ9jDg=s64",
      "userId": "16926908185072904020"
     },
     "user_tz": -60
    },
    "id": "GFBc09kqgK7_",
    "outputId": "64b94eca-0006-48f2-cbe0-f5a6e2c8a5e2"
   },
   "outputs": [],
   "source": [
    "get_data(drivers_with_zones,[\"id_zone\",\"day\"])"
   ]
  },
  {
   "cell_type": "markdown",
   "metadata": {
    "id": "VzoaFa8coBbc"
   },
   "source": [
    "Comment:The distribution shows that there are three categories of zones:\n",
    "high traffic zones (22 and 23);\n",
    "medium affluence zones (13, 14 and 26) and the rest are very low affluence zones.\n",
    "What additional knowledge would you like to extract from this data\n",
    "\n",
    "In this data we may exact the time and date.\n",
    "\n",
    " As before, comment on the parallelization strategy.\n",
    "\n",
    "Parallelize is a method to create an RDD from an existing collection or array present in the driver. The elements present in the collection are copied to form a distributed dataset on which we can operate on in parallel."
   ]
  }
 ],
 "metadata": {
  "colab": {
   "authorship_tag": "ABX9TyNDSG6bU8+nf8CJPE1CSw3J",
   "collapsed_sections": [],
   "mount_file_id": "1sjIQ3fwQCuehRRpnFDwSoMurHpicx1dl",
   "name": "Project_Info - h600.ipynb",
   "provenance": []
  },
  "kernelspec": {
   "display_name": "Python 3",
   "language": "python",
   "name": "python3"
  },
  "language_info": {
   "codemirror_mode": {
    "name": "ipython",
    "version": 3
   },
   "file_extension": ".py",
   "mimetype": "text/x-python",
   "name": "python",
   "nbconvert_exporter": "python",
   "pygments_lexer": "ipython3",
   "version": "3.8.3"
  }
 },
 "nbformat": 4,
 "nbformat_minor": 1
}
